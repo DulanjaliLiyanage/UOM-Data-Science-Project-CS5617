{
 "cells": [
  {
   "cell_type": "code",
   "execution_count": 1,
   "id": "6f1a23ff",
   "metadata": {},
   "outputs": [],
   "source": [
    "import pandas as pd\n",
    "import matplotlib.pyplot as plt"
   ]
  },
  {
   "cell_type": "code",
   "execution_count": 2,
   "id": "6dcec80f",
   "metadata": {},
   "outputs": [],
   "source": [
    "df = pd.read_csv('patient-details.csv')"
   ]
  },
  {
   "cell_type": "code",
   "execution_count": 3,
   "id": "928c6f09",
   "metadata": {},
   "outputs": [
    {
     "data": {
      "text/html": [
       "<div>\n",
       "<style scoped>\n",
       "    .dataframe tbody tr th:only-of-type {\n",
       "        vertical-align: middle;\n",
       "    }\n",
       "\n",
       "    .dataframe tbody tr th {\n",
       "        vertical-align: top;\n",
       "    }\n",
       "\n",
       "    .dataframe thead th {\n",
       "        text-align: right;\n",
       "    }\n",
       "</style>\n",
       "<table border=\"1\" class=\"dataframe\">\n",
       "  <thead>\n",
       "    <tr style=\"text-align: right;\">\n",
       "      <th></th>\n",
       "      <th>Patient ID</th>\n",
       "      <th>Time since discharge</th>\n",
       "      <th>Nitroglycerin peak height</th>\n",
       "      <th>Level of hemoglobin</th>\n",
       "    </tr>\n",
       "  </thead>\n",
       "  <tbody>\n",
       "    <tr>\n",
       "      <th>0</th>\n",
       "      <td>AA1</td>\n",
       "      <td>1.21</td>\n",
       "      <td>218.34</td>\n",
       "      <td>11.28</td>\n",
       "    </tr>\n",
       "    <tr>\n",
       "      <th>1</th>\n",
       "      <td>AA2</td>\n",
       "      <td>2.42</td>\n",
       "      <td>216.16</td>\n",
       "      <td>9.75</td>\n",
       "    </tr>\n",
       "    <tr>\n",
       "      <th>2</th>\n",
       "      <td>AA3</td>\n",
       "      <td>3.62</td>\n",
       "      <td>100.00</td>\n",
       "      <td>10.79</td>\n",
       "    </tr>\n",
       "    <tr>\n",
       "      <th>3</th>\n",
       "      <td>AA4</td>\n",
       "      <td>4.69</td>\n",
       "      <td>75.55</td>\n",
       "      <td>11.00</td>\n",
       "    </tr>\n",
       "    <tr>\n",
       "      <th>4</th>\n",
       "      <td>AA5</td>\n",
       "      <td>7.49</td>\n",
       "      <td>56.52</td>\n",
       "      <td>14.17</td>\n",
       "    </tr>\n",
       "  </tbody>\n",
       "</table>\n",
       "</div>"
      ],
      "text/plain": [
       "  Patient ID  Time since discharge  Nitroglycerin peak height  \\\n",
       "0        AA1                  1.21                     218.34   \n",
       "1        AA2                  2.42                     216.16   \n",
       "2        AA3                  3.62                     100.00   \n",
       "3        AA4                  4.69                      75.55   \n",
       "4        AA5                  7.49                      56.52   \n",
       "\n",
       "   Level of hemoglobin  \n",
       "0                11.28  \n",
       "1                 9.75  \n",
       "2                10.79  \n",
       "3                11.00  \n",
       "4                14.17  "
      ]
     },
     "execution_count": 3,
     "metadata": {},
     "output_type": "execute_result"
    }
   ],
   "source": [
    "df.head()"
   ]
  },
  {
   "cell_type": "code",
   "execution_count": 4,
   "id": "e46fb830",
   "metadata": {},
   "outputs": [
    {
     "data": {
      "text/html": [
       "<div>\n",
       "<style scoped>\n",
       "    .dataframe tbody tr th:only-of-type {\n",
       "        vertical-align: middle;\n",
       "    }\n",
       "\n",
       "    .dataframe tbody tr th {\n",
       "        vertical-align: top;\n",
       "    }\n",
       "\n",
       "    .dataframe thead th {\n",
       "        text-align: right;\n",
       "    }\n",
       "</style>\n",
       "<table border=\"1\" class=\"dataframe\">\n",
       "  <thead>\n",
       "    <tr style=\"text-align: right;\">\n",
       "      <th></th>\n",
       "      <th>Time since discharge</th>\n",
       "      <th>Nitroglycerin peak height</th>\n",
       "      <th>Level of hemoglobin</th>\n",
       "    </tr>\n",
       "  </thead>\n",
       "  <tbody>\n",
       "    <tr>\n",
       "      <th>count</th>\n",
       "      <td>13.000000</td>\n",
       "      <td>13.000000</td>\n",
       "      <td>13.000000</td>\n",
       "    </tr>\n",
       "    <tr>\n",
       "      <th>mean</th>\n",
       "      <td>16.293846</td>\n",
       "      <td>64.816923</td>\n",
       "      <td>12.380000</td>\n",
       "    </tr>\n",
       "    <tr>\n",
       "      <th>std</th>\n",
       "      <td>13.795854</td>\n",
       "      <td>73.352662</td>\n",
       "      <td>2.423668</td>\n",
       "    </tr>\n",
       "    <tr>\n",
       "      <th>min</th>\n",
       "      <td>1.210000</td>\n",
       "      <td>5.160000</td>\n",
       "      <td>8.580000</td>\n",
       "    </tr>\n",
       "    <tr>\n",
       "      <th>25%</th>\n",
       "      <td>4.690000</td>\n",
       "      <td>14.630000</td>\n",
       "      <td>10.880000</td>\n",
       "    </tr>\n",
       "    <tr>\n",
       "      <th>50%</th>\n",
       "      <td>11.600000</td>\n",
       "      <td>41.440000</td>\n",
       "      <td>11.640000</td>\n",
       "    </tr>\n",
       "    <tr>\n",
       "      <th>75%</th>\n",
       "      <td>25.700000</td>\n",
       "      <td>75.550000</td>\n",
       "      <td>14.170000</td>\n",
       "    </tr>\n",
       "    <tr>\n",
       "      <th>max</th>\n",
       "      <td>42.420000</td>\n",
       "      <td>218.340000</td>\n",
       "      <td>16.420000</td>\n",
       "    </tr>\n",
       "  </tbody>\n",
       "</table>\n",
       "</div>"
      ],
      "text/plain": [
       "       Time since discharge  Nitroglycerin peak height  Level of hemoglobin\n",
       "count             13.000000                  13.000000            13.000000\n",
       "mean              16.293846                  64.816923            12.380000\n",
       "std               13.795854                  73.352662             2.423668\n",
       "min                1.210000                   5.160000             8.580000\n",
       "25%                4.690000                  14.630000            10.880000\n",
       "50%               11.600000                  41.440000            11.640000\n",
       "75%               25.700000                  75.550000            14.170000\n",
       "max               42.420000                 218.340000            16.420000"
      ]
     },
     "execution_count": 4,
     "metadata": {},
     "output_type": "execute_result"
    }
   ],
   "source": [
    "df.describe()"
   ]
  },
  {
   "cell_type": "code",
   "execution_count": 6,
   "id": "257ef23a",
   "metadata": {},
   "outputs": [],
   "source": [
    "import seaborn as sns"
   ]
  },
  {
   "cell_type": "code",
   "execution_count": 8,
   "id": "f733c3e4",
   "metadata": {},
   "outputs": [
    {
     "data": {
      "text/plain": [
       "218.34    0.076923\n",
       "216.16    0.076923\n",
       "100.00    0.076923\n",
       "75.55     0.076923\n",
       "56.52     0.076923\n",
       "50.62     0.076923\n",
       "31.00     0.076923\n",
       "41.44     0.076923\n",
       "15.53     0.076923\n",
       "14.63     0.076923\n",
       "10.41     0.076923\n",
       "5.16      0.076923\n",
       "7.26      0.076923\n",
       "Name: Nitroglycerin peak height, dtype: float64"
      ]
     },
     "execution_count": 8,
     "metadata": {},
     "output_type": "execute_result"
    }
   ],
   "source": [
    "normal_val =  df['Nitroglycerin peak height'].value_counts(normalize=True)\n",
    "normal_val"
   ]
  },
  {
   "cell_type": "code",
   "execution_count": null,
   "id": "ef0c77e2",
   "metadata": {},
   "outputs": [],
   "source": [
    "normal_val.plot.bar(x='Brand',y='val', rot=0)"
   ]
  },
  {
   "cell_type": "code",
   "execution_count": 20,
   "id": "c11e5c0b",
   "metadata": {},
   "outputs": [
    {
     "data": {
      "image/png": "[encoded data removed]",
      "text/plain": [
       "<Figure size 750x750 with 12 Axes>"
      ]
     },
     "metadata": {},
     "output_type": "display_data"
    }
   ],
   "source": [
    "sns.pairplot(df)\n",
    "plt.show()"
   ]
  },
  {
   "cell_type": "code",
   "execution_count": 21,
   "id": "ff6bd697",
   "metadata": {},
   "outputs": [
    {
     "data": {
      "image/png": "[encoded data removed]",
      "text/plain": [
       "<Figure size 640x480 with 1 Axes>"
      ]
     },
     "metadata": {},
     "output_type": "display_data"
    }
   ],
   "source": [
    "plt.hist(normal_val, bins=30, edgecolor='black', color='red')\n",
    "plt.show()"
   ]
  },
  {
   "cell_type": "code",
   "execution_count": null,
   "id": "93c5bd87",
   "metadata": {},
   "outputs": [],
   "source": [
    "# Question 12\n",
    "# Comment and contrast on using the above two libraries in plotting multivariate data.\n",
    "# pyplot is a low-level library for creating plots, and it provides a wide range of basic building blocks for creating plots, including functions for creating histograms, scatter plots, and line plots, among others. pyplot is highly customizable, which makes it a good choice for creating complex plots with specific requirements. However, creating multivariate plots with pyplot can be time-consuming and requires a lot of code.\n",
    "\n",
    "# On the other hand, Seaborn is a high-level library built on top of pyplot that provides a more streamlined interface for creating plots. Seaborn has a strong focus on statistical visualization and provides a range of functions for plotting multivariate data, including scatter plots, line plots, histograms, and density plots, among others. Seaborn also provides built-in support for automatically estimating and plotting regression models, which can be a big time-saver when working with multivariate data. Additionally, Seaborn provides attractive default styles for plots, which makes it easy to create visually appealing plots with a minimum of code.\n",
    "\n",
    "# In conclusion, when plotting multivariate data, you can choose to use pyplot or Seaborn depending on your specific needs. If you need maximum customization and control over your plots, or if you're working with complex data, then pyplot might be a better choice. However, if you're working with standard multivariate datasets and want to create visually appealing plots quickly and easily, then Seaborn is a good choice.\n"
   ]
  },
  {
   "cell_type": "code",
   "execution_count": 24,
   "id": "0c2306bf",
   "metadata": {},
   "outputs": [
    {
     "name": "stdout",
     "output_type": "stream",
     "text": [
      "Pearson Correlation Coefficient: -0.7277\n"
     ]
    }
   ],
   "source": [
    "from scipy.stats import pearsonr\n",
    "\n",
    "x = df['Time since discharge']\n",
    "y = df['Nitroglycerin peak height']\n",
    "\n",
    "corr, _ = pearsonr(x, y)\n",
    "print('Pearson Correlation Coefficient: %.4f' % corr)\n",
    "\n",
    "#Pearson Correlation Coefficient: -0.7277"
   ]
  },
  {
   "cell_type": "code",
   "execution_count": 25,
   "id": "2ed81ce2",
   "metadata": {},
   "outputs": [],
   "source": [
    "# question 14\n",
    "# Comment on the relationship among the variables using above calculated value\n",
    "# It has a strong negative corelation between these 2 varibles"
   ]
  },
  {
   "cell_type": "code",
   "execution_count": null,
   "id": "7626df30",
   "metadata": {},
   "outputs": [],
   "source": []
  }
 ],
 "metadata": {
  "kernelspec": {
   "display_name": "Python 3 (ipykernel)",
   "language": "python",
   "name": "python3"
  },
  "language_info": {
   "codemirror_mode": {
    "name": "ipython",
    "version": 3
   },
   "file_extension": ".py",
   "mimetype": "text/x-python",
   "name": "python",
   "nbconvert_exporter": "python",
   "pygments_lexer": "ipython3",
   "version": "3.9.2"
  }
 },
 "nbformat": 4,
 "nbformat_minor": 5
}
